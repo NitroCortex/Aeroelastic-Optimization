{
 "cells": [
  {
   "cell_type": "markdown",
   "metadata": {},
   "source": [
    "## Aggregation function implementation"
   ]
  },
  {
   "cell_type": "markdown",
   "metadata": {},
   "source": [
    "In our optimization problem we are interested in the problem of minimizing the induce drag coefficient $C_{D_i}$, the structural mass or something else subject to constraints on structural failure. In particular, we are interested in failure criteria based on yield stress. That choise is desirable because checking the failure criteria in the optimization problem will mean that the optimized design of the structure is suitable for the prescribed loading condition.\n",
    "\n",
    "Including failure constraint directly in the structural optimization problem provides some issues:\n",
    "\n",
    "As first the resulting size of the problem, in fact we have to set a constraint for each FEM element, that lead to, for detailed high-fidelity structural models, an optimization problem with many of thousands or millions of failure constraints. These constraint are **costly** to enforce because they can only be checked by completing the structural analysis. \n",
    "\n",
    "In our example case with the CRM wing model, with about 25'000 FEM elements, the computational cost is so high that already in the openMDAO setting step the software can crash for memory leak.\n",
    "\n",
    "It is therefore necessary to use aggregation to reduce the number of constraint. The lost common approach to deal with the large number of constraint is constraint aggregation. Following this approach, the local constraint are lumped togheter into a global constraint. Instead of many local constraint, only a single aggregated constraint is considered, wich drastically decreases the computation cost.\n",
    "\n",
    "In the optimization problem there is another issue; in fact a natural choise for these constraint aggregates is a maximum-value function. However, the maximum-value functions are not differentiable and cannot be used efficiently in conjunction with gradient-based desogn optimization.\n",
    "\n",
    "Our choise for this problem have been to use the **_Kreisselmeiser-Steinhauser_** function or the **_p-norm_** function.\n",
    "\n",
    "Let's see in the detail this aggregation function and how we implemented it in the script."
   ]
  },
  {
   "cell_type": "markdown",
   "metadata": {
    "collapsed": true
   },
   "source": [
    "### Aggregation Function"
   ]
  },
  {
   "cell_type": "markdown",
   "metadata": {
    "collapsed": true
   },
   "source": [
    "In the optimization process, each time that we run a FEM analysis, we store in a vector all the stress's components over the displacements of the structural nodes. From the stress's vector we want to obain a continuos function, representative of the maximux of the stress for each iteration. \n",
    "\n",
    "Several aggregation functions have been used in literature: Kreisselmeiser-Steinhauser function, P-norm function, P-mean function. These aggregation functions have in common that they transform a set of local function values into a scalar function. This scalr function depend on an aggregation parameter $P > 0$, and converges in the limit to the maximum local function value:"
   ]
  },
  {
   "cell_type": "markdown",
   "metadata": {},
   "source": [
    "\\begin{equation} \\lim_{P\\to\\infty} \\Psi( f;P ) = max(f_1,f_2,...,f_N)\\end{equation}"
   ]
  },
  {
   "cell_type": "markdown",
   "metadata": {},
   "source": [
    "Here , $f = (f_1,f_2,...,f_N)^T$ denotes a vector in which the entries are the local function values, and $\\Psi$ is the scal aggregation function.\n",
    "\n",
    "Some aggregation function approsimate the maximum local function value from above, and other from below; depending on this charatheristic behavior the aggregation function forms an upper or lower -bound to the maximum local function value.\n",
    "\n",
    "In the next figure you can see the difference between an upper and a lower bound aggregation and the effect of the draw-down factor $P$:\n",
    "\n"
   ]
  },
  {
   "cell_type": "markdown",
   "metadata": {},
   "source": [
    "![title](img/peffect.png)"
   ]
  },
  {
   "cell_type": "markdown",
   "metadata": {},
   "source": [
    "In this figure there are described the relative error of the scalar function related to the maxim value of the stress. You can also see how some aggregation function converge from above while the other from below. \n",
    "\n",
    "**Note**: This figure can be obtained from a script joined in the end, it will be useful for decide the aggregation function, the draw-down factor and the characteristic stress used for the adimensionalization in relation of the dimension of your problem."
   ]
  },
  {
   "cell_type": "markdown",
   "metadata": {},
   "source": [
    "Let's see in the particular the aggregation function implemented in the script and the code:"
   ]
  },
  {
   "cell_type": "markdown",
   "metadata": {},
   "source": [
    "### Preamble of the script"
   ]
  },
  {
   "cell_type": "markdown",
   "metadata": {},
   "source": [
    "Here there is the defionition of all the variables used in the script.\n",
    "\n",
    "To work we have to give to the method 3 values:\n",
    "* the lenght of the stress's vector, usually defined at the start of the script as you can see in the optimization example;\n",
    "* the draw-down factor, you should decide it in function of the dimension of your problem and the accuracy that u want to reach ( an higher draw-down factor entail an higher computational cost but an higher accuracy);\n",
    "* the function that u want to use;\n",
    "\n",
    "The other variables are:\n",
    "* the Von Mises Stresses Vector **VMStress**;\n",
    "* the charateristic parameter **s0** used for the adimensionalization of the stress; the adimensionalization need because in relation of the unit of measure that you choose it's possibile to incur in overflow or underflow errors;\n",
    "* the Aggregation function value **G**."
   ]
  },
  {
   "cell_type": "code",
   "execution_count": null,
   "metadata": {
    "collapsed": true
   },
   "outputs": [],
   "source": [
    "    def __init__(self,n_stress,p,function):\n",
    "        super(Aggregation,self).__init__()\n",
    "        \n",
    "        #Number of Von Mises Stresses obtained\n",
    "        self.n_stress=n_stress\n",
    "        \n",
    "        #Draw-down factor\n",
    "        self.p=p\n",
    "        \n",
    "        #Aggregation function type\n",
    "        self.function=function\n",
    "        \n",
    "        #Von Mises stresses vector\n",
    "        self.add_param('VMStress',np.zeros(self.n_stress))\n",
    "                \n",
    "        #Reference vqlue for normalization of stresses\n",
    "        self.add_param('s0',val=0.0)\n",
    "        \n",
    "        #Aggregation function\n",
    "        self.add_output('G',val=0.0)"
   ]
  },
  {
   "cell_type": "markdown",
   "metadata": {
    "collapsed": true
   },
   "source": [
    "### P-norm and P-mean"
   ]
  },
  {
   "cell_type": "markdown",
   "metadata": {},
   "source": [
    "\\begin{equation} \\Psi_{PN}^U = \\bigg(\\sum_{i=1}^{N} f_i^P\\bigg)^{1/P} \\end{equation}\n",
    "\n",
    "and\n",
    "\n",
    "\\begin{equation} \\Psi_{PM}^L = \\bigg(\\frac{1}{N}\\sum_{i=1}^{N} f_i^P\\bigg)^{1/P} \\end{equation}"
   ]
  },
  {
   "cell_type": "markdown",
   "metadata": {},
   "source": [
    "We superscript U and L to denote an upper and lower bounded function.\n",
    "P-norm and P-mean are used to aggregate non-negative stress criteria, because in the assumpition the local function values need to be non-negative.\n",
    "\n",
    "The difference between these two aggregation functions is that the P-norm is an upper bound, and the P-mean is a lower bound to the maximum local function value:\n",
    "\n",
    "\\begin{equation} \\Psi_{PM}^L \\le max (f_1,f_2,...,f_N) \\le\\Psi_{PN}^U \\end{equation}"
   ]
  },
  {
   "cell_type": "code",
   "execution_count": null,
   "metadata": {
    "collapsed": true
   },
   "outputs": [],
   "source": [
    "        elif function=='Gpn':\n",
    "            \n",
    "            for k in range(n_stress):\n",
    "                \n",
    "                summ+=(VMStress[k]/gmax)**p\n",
    "                \n",
    "            G=gmax*(summ)**(1/p)   \n",
    "            \n",
    "                \n",
    "        elif function=='Gpm':\n",
    "            \n",
    "            for k in range(n_stress):\n",
    "                \n",
    "                summ+=(VMStress[k]/gmax)**p\n",
    "                \n",
    "            G=(summ/n_stress)**(1/p)*gmax  "
   ]
  },
  {
   "cell_type": "markdown",
   "metadata": {
    "collapsed": true
   },
   "source": [
    "### Kreisselmeiser-Steinhauser function"
   ]
  },
  {
   "cell_type": "markdown",
   "metadata": {
    "collapsed": true
   },
   "source": [
    "\\begin{equation} \\Psi_{KS}^U = \\frac{1}{P}ln\\bigg(\\sum_{i=1}^{N} e^{P f_i}\\bigg) \\end{equation}"
   ]
  },
  {
   "cell_type": "markdown",
   "metadata": {},
   "source": [
    "Here we used the superscript U to emphasize thzt the KS-function forms an upper bound to the maximum local function value. For $P>0$ the function overstimates the maximum local function value."
   ]
  },
  {
   "cell_type": "markdown",
   "metadata": {},
   "source": [
    "\\begin{equation} \\Psi_{KS}^L = \\frac{1}{P}ln\\bigg(\\frac{1}{N}\\sum_{i=1}^{N} e^{P f_i}\\bigg) \\end{equation}"
   ]
  },
  {
   "cell_type": "markdown",
   "metadata": {},
   "source": [
    "Subtracting the maximum diufference $\\frac{1}{P} ln(N)$ giving a lower bound to the maximum local function value, obtaining the KS-function lower bounded denoted with the superscript L.\n",
    "\n",
    "In the code we implemented a unified version of this aggregation function to avoid numerical error caused by the logarithm:"
   ]
  },
  {
   "cell_type": "markdown",
   "metadata": {},
   "source": [
    "\\begin{equation} \\Psi_{KS}^U = f_{max} +\\frac{1}{P}ln\\bigg(\\sum_{i=1}^{N} e^{ (f_i-f_{max})}\\bigg) \\end{equation}\n",
    "\n"
   ]
  },
  {
   "cell_type": "markdown",
   "metadata": {
    "collapsed": true
   },
   "source": [
    "<center>and</center>"
   ]
  },
  {
   "cell_type": "markdown",
   "metadata": {
    "collapsed": true
   },
   "source": [
    "\n",
    "\\begin{equation} \\Psi_{KS}^L = f_{max} +\\frac{1}{P}ln\\bigg(\\sum_{i=1}^{N} e^{ (f_i-f_{max})}\\bigg)- \\frac{\\ln N}{P} \\end{equation} "
   ]
  },
  {
   "cell_type": "code",
   "execution_count": null,
   "metadata": {
    "collapsed": true
   },
   "outputs": [],
   "source": [
    "        if function=='Gksl':\n",
    "        \n",
    "            for k in range (n_stress):\n",
    "                \n",
    "                summ+=np.exp(p*((VMStress[k]-gmax)/s0))\n",
    "                \n",
    "            G=((gmax/s0)+(np.log(summ)/p)-(np.log(n_stress)/p))*s0\n",
    "                    \n",
    "        \n",
    "        elif function=='Gksu':\n",
    "            \n",
    "            for k in range (n_stress):\n",
    "                \n",
    "                summ+=np.exp(p*((VMStress[k]-gmax)/s0))\n",
    "                \n",
    "                G=((gmax/s0)+(np.log(summ)/p))*s0"
   ]
  },
  {
   "cell_type": "markdown",
   "metadata": {
    "collapsed": true
   },
   "source": [
    "### Output setting"
   ]
  },
  {
   "cell_type": "markdown",
   "metadata": {
    "collapsed": true
   },
   "source": [
    "In the componet we set as output the aggregation function G and we save it in a dictonary to collect the data.\n",
    "\n",
    "This output G will be used in the definition of the constraint function to replace the single components of the Von Mises Stresses Vector."
   ]
  },
  {
   "cell_type": "code",
   "execution_count": null,
   "metadata": {
    "collapsed": true
   },
   "outputs": [],
   "source": [
    "        #Set the aggregation function as an output\n",
    "        unknowns['G']=G\n",
    "        \n",
    "        output_aggr = {}\n",
    "\n",
    "        output_aggr['G'] = G\n",
    "\n",
    "\n",
    "        return output_aggr"
   ]
  },
  {
   "cell_type": "markdown",
   "metadata": {},
   "source": [
    "### How to choose the draw-down factor P and the function"
   ]
  },
  {
   "cell_type": "markdown",
   "metadata": {},
   "source": [
    "There is a test code that we used during the implementation. That code can be use to test the aggregation function and the effect of P using your Stress vector. "
   ]
  },
  {
   "cell_type": "markdown",
   "metadata": {
    "collapsed": true
   },
   "source": [
    "#### Importing section"
   ]
  },
  {
   "cell_type": "code",
   "execution_count": 1,
   "metadata": {
    "collapsed": true
   },
   "outputs": [],
   "source": [
    "\n",
    "                \n",
    "# -*- coding: utf-8 -*-\n",
    "\"\"\"\n",
    "Created on Tue May 29 09:55:22 2018\n",
    "\n",
    "@author: a.iacono\n",
    "\"\"\"\n",
    "\n",
    "from __future__ import print_function\n",
    "\n",
    "import numpy as np\n",
    "\n",
    "from openmdao.api import Component,Group,Problem,IndepVarComp,view_tree\n",
    "\n",
    "import matplotlib.pyplot as plt"
   ]
  },
  {
   "cell_type": "markdown",
   "metadata": {},
   "source": [
    "#### Aggregation Compoennt in openMDAO language"
   ]
  },
  {
   "cell_type": "markdown",
   "metadata": {},
   "source": [
    "This is the component defined as in the optimization script:"
   ]
  },
  {
   "cell_type": "code",
   "execution_count": null,
   "metadata": {
    "collapsed": true
   },
   "outputs": [],
   "source": [
    "#Component which gives the aggregation function (G) given the Von Mises Stresses\n",
    "class Aggregation(Component):\n",
    "    def __init__(self,n_stress,p,function):\n",
    "        super(Aggregation,self).__init__()\n",
    "        #Number of Von Mises Stresses obtained\n",
    "        self.n_stress=n_stress\n",
    "        #Draw-down factor\n",
    "        self.p=p\n",
    "        #Aggregation function type\n",
    "        self.function=function\n",
    "        #Von Mises stresses vector\n",
    "        self.add_param('VMStress',np.zeros(self.n_stress))\n",
    "        #Reference vqlue for normalization of stresses\n",
    "        self.add_param('s0',val=0.0)\n",
    "        #Aggregation function\n",
    "        self.add_output('G',val=0.0)\n",
    "        \n",
    "    def solve_nonlinear(self,params,unknowns,resids):\n",
    "        n_stress=self.n_stress\n",
    "        p=self.p\n",
    "        function=self.function\n",
    "        VMStress=params['VMStress']\n",
    "        s0=params['s0']\n",
    "        gmax=max(VMStress)\n",
    "        summ=0.0\n",
    "        if function=='Gksl':\n",
    "            for k in range (n_stress):\n",
    "                summ+=np.exp(p*((VMStress[k]-gmax)/s0))\n",
    "            G=((gmax/s0)+(np.log(summ)/p)-(np.log(n_stress)/p))*s0\n",
    "        elif function=='Gksu':\n",
    "            for k in range (n_stress):\n",
    "                summ+=np.exp(p*((VMStress[k]-gmax)/s0))\n",
    "                G=((gmax/s0)+(np.log(summ)/p))*s0\n",
    "        elif function=='Gpn':\n",
    "            for k in range(n_stress):\n",
    "                summ+=(VMStress[k]/gmax)**p\n",
    "            G=gmax*(summ)**(1/p)   \n",
    "        elif function=='Gpm':\n",
    "            for k in range(n_stress):\n",
    "                summ+=(VMStress[k]/gmax)**p\n",
    "            G=(summ/n_stress)**(1/p)*gmax  \n",
    "        #Set the aggregation function as an output\n",
    "        unknowns['G']=G\n",
    "        output_aggr = {}\n",
    "        output_aggr['G'] = G"
   ]
  },
  {
   "cell_type": "markdown",
   "metadata": {
    "collapsed": true
   },
   "source": [
    "Now we have to define the stress vector. Normally during the process is automatically obtained from the source, but we want just to run the aggregation using a sample vector, so we create a vector named **VMStress** from a local variable. In the folder there is a spydata, this file contains some sample stress vectors named **VMSi** $i=(1,2,...,10)$, but u can use your own stress vector saved as global variables in your python editor.\n",
    "\n",
    "NOTE: If you don't load any variables the script cannot run"
   ]
  },
  {
   "cell_type": "code",
   "execution_count": null,
   "metadata": {
    "collapsed": false
   },
   "outputs": [],
   "source": [
    "VMStress=np.asarray(VMS1)"
   ]
  },
  {
   "cell_type": "markdown",
   "metadata": {
    "collapsed": true
   },
   "source": [
    "#### Problem definition"
   ]
  },
  {
   "cell_type": "markdown",
   "metadata": {},
   "source": [
    "Here we are setting the initial value for the draw-down factor P, the value of the caratheristic stress ( set it in relation of the unity that u are using for your case) and we inizialize a storage vector for the plots."
   ]
  },
  {
   "cell_type": "code",
   "execution_count": null,
   "metadata": {
    "collapsed": true
   },
   "outputs": [],
   "source": [
    "p=1.0\n",
    "s0=40000000.0\n",
    "gvec=np.array([])"
   ]
  },
  {
   "cell_type": "markdown",
   "metadata": {
    "collapsed": true
   },
   "source": [
    "#### Running the code"
   ]
  },
  {
   "cell_type": "markdown",
   "metadata": {},
   "source": [
    "Now we are running the component to obation the aggregation function value for different values of p; set the while limit as you want:"
   ]
  },
  {
   "cell_type": "code",
   "execution_count": null,
   "metadata": {
    "collapsed": true
   },
   "outputs": [],
   "source": [
    "while p<=200:\n",
    "    p+=1\n",
    "\n",
    "    if __name__ == \"__main__\":\n",
    "    \n",
    "        n_stress=len(VMStress)\n",
    "        function='Gksl'\n",
    "        #('Gksl','Gksu','Gpn','Gpm')\n",
    "        \n",
    "        \n",
    "        top = Problem()\n",
    "        top.root = root = Group()\n",
    "        root.add('vonmises', IndepVarComp('VMStress', VMStress), promotes=['*'])\n",
    "        root.add('reference_s', IndepVarComp('s0', s0), promotes=['*'])\n",
    "        root.add('aggregation',Aggregation(n_stress,p,function),promotes=['*'])\n",
    "        \n",
    "        \n",
    "        top.setup()\n",
    "        view_tree(top, show_browser=False)\n",
    "        top.run()\n",
    "        Error=(top['G']-max(VMStress))/max(VMStress)*100\n",
    "        gvec=np.append(gvec,Error)\n",
    "            \n",
    "        \n",
    "    \n",
    "        print (\"%s =  %f\" % (function, top['G']))\n",
    "        \n",
    "    \n",
    "        Max_VM=max(VMStress)\n",
    "        G=top['G']"
   ]
  },
  {
   "cell_type": "markdown",
   "metadata": {},
   "source": [
    "#### Plotting section"
   ]
  },
  {
   "cell_type": "markdown",
   "metadata": {},
   "source": [
    "Here we create and save in the folder the plots about the iterations:"
   ]
  },
  {
   "cell_type": "code",
   "execution_count": null,
   "metadata": {
    "collapsed": true
   },
   "outputs": [],
   "source": [
    "    \n",
    "pp = np.arange(1., p, 1)\n",
    "plt.plot(pp,gvec)\n",
    "plt.grid(True)\n",
    "plt.text(p/2,(gvec[1]+gvec[-2])/2,function,fontsize=18)\n",
    "plt.xlabel('p', fontsize=14)\n",
    "plt.ylabel('Error [%]', fontsize=14)\n",
    "#plt.xlim(pp.min() * 1.5, pp.max() * 1.1)\n",
    "#plt.ylim(95, 110)\n",
    "plt.show\n",
    "plt.savefig('%s_p=%d.png'%(function,p-1),dpi=1000, bbox_inches='tight')\n"
   ]
  },
  {
   "cell_type": "code",
   "execution_count": null,
   "metadata": {
    "collapsed": true
   },
   "outputs": [],
   "source": []
  },
  {
   "cell_type": "code",
   "execution_count": null,
   "metadata": {
    "collapsed": true
   },
   "outputs": [],
   "source": []
  },
  {
   "cell_type": "code",
   "execution_count": null,
   "metadata": {
    "collapsed": true
   },
   "outputs": [],
   "source": []
  },
  {
   "cell_type": "code",
   "execution_count": null,
   "metadata": {
    "collapsed": true
   },
   "outputs": [],
   "source": []
  },
  {
   "cell_type": "code",
   "execution_count": null,
   "metadata": {
    "collapsed": true
   },
   "outputs": [],
   "source": []
  },
  {
   "cell_type": "code",
   "execution_count": null,
   "metadata": {
    "collapsed": true
   },
   "outputs": [],
   "source": []
  },
  {
   "cell_type": "code",
   "execution_count": null,
   "metadata": {
    "collapsed": true
   },
   "outputs": [],
   "source": []
  },
  {
   "cell_type": "code",
   "execution_count": null,
   "metadata": {
    "collapsed": true
   },
   "outputs": [],
   "source": []
  },
  {
   "cell_type": "code",
   "execution_count": null,
   "metadata": {
    "collapsed": true
   },
   "outputs": [],
   "source": []
  }
 ],
 "metadata": {
  "anaconda-cloud": {},
  "kernelspec": {
   "display_name": "Python [Anaconda2]",
   "language": "python",
   "name": "Python [Anaconda2]"
  },
  "language_info": {
   "codemirror_mode": {
    "name": "ipython",
    "version": 2
   },
   "file_extension": ".py",
   "mimetype": "text/x-python",
   "name": "python",
   "nbconvert_exporter": "python",
   "pygments_lexer": "ipython2",
   "version": "2.7.11"
  }
 },
 "nbformat": 4,
 "nbformat_minor": 2
}
